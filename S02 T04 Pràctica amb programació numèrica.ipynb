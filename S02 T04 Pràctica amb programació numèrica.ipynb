{
 "cells": [
  {
   "cell_type": "markdown",
   "id": "93b6ab98",
   "metadata": {},
   "source": [
    "# Nivell 1"
   ]
  },
  {
   "cell_type": "markdown",
   "id": "180fcb06",
   "metadata": {},
   "source": [
    "## Exercici 1"
   ]
  },
  {
   "cell_type": "markdown",
   "id": "3cfa7bf7",
   "metadata": {},
   "source": [
    "Crea una funció que donat un Array d’una dimensió, et faci un resum estadístic bàsic de les dades. Si detecta que l’array té més d’una dimensió, ha de mostrar un missatge d’error."
   ]
  },
  {
   "cell_type": "code",
   "execution_count": 2,
   "id": "911e4968",
   "metadata": {
    "ExecuteTime": {
     "end_time": "2022-05-31T18:59:04.140165Z",
     "start_time": "2022-05-31T18:59:04.133212Z"
    }
   },
   "outputs": [
    {
     "data": {
      "text/plain": [
       "(3,)"
      ]
     },
     "execution_count": 2,
     "metadata": {},
     "output_type": "execute_result"
    }
   ],
   "source": [
    "import numpy as np\n",
    "\n",
    "a = np.array([127, 128, 129], dtype=np.int8)\n",
    "a.shape"
   ]
  },
  {
   "cell_type": "code",
   "execution_count": 32,
   "id": "b7d1243c",
   "metadata": {
    "ExecuteTime": {
     "end_time": "2022-05-31T19:09:43.288535Z",
     "start_time": "2022-05-31T19:09:37.720238Z"
    }
   },
   "outputs": [
    {
     "name": "stdout",
     "output_type": "stream",
     "text": [
      "Cantidad de numeros a crear? 25\n",
      "Dimensió de l'array 1\n",
      "[[0.5488135  0.71518937 0.60276338 0.54488318 0.4236548  0.64589411\n",
      "  0.43758721 0.891773   0.96366276 0.38344152 0.79172504 0.52889492\n",
      "  0.56804456 0.92559664 0.07103606 0.0871293  0.0202184  0.83261985\n",
      "  0.77815675 0.87001215 0.97861834 0.79915856 0.46147936 0.78052918\n",
      "  0.11827443]]\n",
      "La media es:  0.59\n"
     ]
    }
   ],
   "source": [
    "np.random.seed(0)\n",
    "\n",
    "def estadistica (matriz):\n",
    "    forma = matriz.shape\n",
    "    if forma[0] ==1:\n",
    "        print('La media es: ', round(matriz.mean(),2))\n",
    "    else:\n",
    "        print('L’array té més d’una dimensió')\n",
    "\n",
    "num = int(input('Cantidad de numeros a crear? '))\n",
    "dim = int(input(\"Dimensió de l'array? \"))\n",
    "\n",
    "x = np.random.rand(dim,num)\n",
    "print(x)\n",
    "\n",
    "estadistica(x)"
   ]
  },
  {
   "cell_type": "markdown",
   "id": "036319d2",
   "metadata": {
    "ExecuteTime": {
     "end_time": "2022-05-31T19:09:01.874499Z",
     "start_time": "2022-05-31T19:09:01.868515Z"
    }
   },
   "source": [
    "# #Exercici 2"
   ]
  },
  {
   "cell_type": "markdown",
   "id": "cc30adc8",
   "metadata": {},
   "source": [
    "Crea una funció que et generi un quadrat NxN de nombres aleatoris entre el 0 i el 100."
   ]
  },
  {
   "cell_type": "code",
   "execution_count": 42,
   "id": "b28e8b90",
   "metadata": {
    "ExecuteTime": {
     "end_time": "2022-05-31T19:15:22.948740Z",
     "start_time": "2022-05-31T19:15:20.873438Z"
    }
   },
   "outputs": [
    {
     "name": "stdout",
     "output_type": "stream",
     "text": [
      "Tamany de la matriu? 2\n",
      "[[57.59464956 92.92961976]\n",
      " [31.85689525 66.741038  ]]\n"
     ]
    }
   ],
   "source": [
    "def matriuQuadrat(n):\n",
    "    x = (np.random.rand(N, N))*100\n",
    "    print(x)\n",
    "    \n",
    "N = int(input('Tamany de la matriu? '))\n",
    "matriuQuadrat(N)\n"
   ]
  },
  {
   "cell_type": "markdown",
   "id": "ccc01eac",
   "metadata": {
    "ExecuteTime": {
     "end_time": "2022-05-31T19:15:49.075364Z",
     "start_time": "2022-05-31T19:15:49.071375Z"
    }
   },
   "source": [
    "# Exercici 3\n",
    "##Crea una funció que donada una taula de dues dimensions, et calculi els totals per fila i els totals per columna."
   ]
  },
  {
   "cell_type": "code",
   "execution_count": 49,
   "id": "e1a08ac4",
   "metadata": {
    "ExecuteTime": {
     "end_time": "2022-05-31T19:20:15.926523Z",
     "start_time": "2022-05-31T19:20:15.907544Z"
    }
   },
   "outputs": [
    {
     "name": "stdout",
     "output_type": "stream",
     "text": [
      "[[22.30816326 95.27490115]\n",
      " [44.71253786 84.64086725]]\n",
      "\n",
      "Suma por columnas  [ 67.02070113 179.9157684 ]\n",
      "Suma por filas  [117.58306442 129.35340511]\n"
     ]
    }
   ],
   "source": [
    "def matriuQuadrat(n):\n",
    "    x = (np.random.rand(N, N))*100\n",
    "    print(x)\n",
    "    print('\\nSuma por columnas ', np.apply_along_axis(sum, 0, x))\n",
    "    print('Suma por filas ', np.apply_along_axis(sum, 1, x))\n",
    "    #print((x.sum(), axis=0)\n",
    "    \n",
    "#N = int(input('Tamany de la matriu? '))\n",
    "N=2\n",
    "matriuQuadrat(N)\n"
   ]
  },
  {
   "cell_type": "markdown",
   "id": "32abadf8",
   "metadata": {},
   "source": [
    "# Exercici 4"
   ]
  },
  {
   "cell_type": "markdown",
   "id": "9baec2ce",
   "metadata": {},
   "source": [
    "Implementa manualment una funció que calculi el coeficient de correlació. Informa’t-en sobre els seus usos i interpretació."
   ]
  },
  {
   "cell_type": "code",
   "execution_count": 63,
   "id": "a64be760",
   "metadata": {
    "ExecuteTime": {
     "end_time": "2022-05-31T19:36:31.074801Z",
     "start_time": "2022-05-31T19:36:30.952131Z"
    }
   },
   "outputs": [
    {
     "name": "stdout",
     "output_type": "stream",
     "text": [
      "[[1.         0.78279369]\n",
      " [0.78279369 1.        ]]\n",
      "Pendiente positiva\n",
      "correlación fuerte\n"
     ]
    },
    {
     "data": {
      "image/png": "[encoded data removed]",
      "text/plain": [
       "<Figure size 432x288 with 1 Axes>"
      ]
     },
     "metadata": {
      "needs_background": "light"
     },
     "output_type": "display_data"
    }
   ],
   "source": [
    "import matplotlib.pyplot as plt\n",
    "\n",
    "x = np.array([0, -2, -1, 0, 1, 2])\n",
    "y = np.array([2, 0, 1, 3, 2, 2.5])\n",
    "my_rho = np.corrcoef(x, y)\n",
    "\n",
    "print(my_rho)\n",
    "\n",
    "plt.scatter(x,y)\n",
    "\n",
    "\n",
    "if my_rho[0][1]<0:\n",
    "    print('Correlación negativa, Significa pendiente <90º')\n",
    "    \n",
    "else:\n",
    "    print('Pendiente positiva')\n",
    "if abs(my_rho[0][1])>0 and abs(my_rho[0][1])<0.1 :\n",
    "    print('Buena correlación inexistente')\n",
    "    \n",
    "elif abs(my_rho[0][1])>=0.0 and abs(my_rho[0][1])<0.29 :\n",
    "    print(' correlación débil')\n",
    "\n",
    "elif abs(my_rho[0][1])>=0.3 and abs(my_rho[0][1])<0.5 :\n",
    "    print('Correlación moderada')\n",
    "    \n",
    "elif abs(my_rho[0][1])>=0.5:   # Mai pot ser > 1\n",
    "    print('correlación fuerte')\n",
    "    \n"
   ]
  },
  {
   "cell_type": "code",
   "execution_count": null,
   "id": "e7a01afa",
   "metadata": {},
   "outputs": [],
   "source": []
  }
 ],
 "metadata": {
  "hide_input": false,
  "kernelspec": {
   "display_name": "Python 3 (ipykernel)",
   "language": "python",
   "name": "python3"
  },
  "language_info": {
   "codemirror_mode": {
    "name": "ipython",
    "version": 3
   },
   "file_extension": ".py",
   "mimetype": "text/x-python",
   "name": "python",
   "nbconvert_exporter": "python",
   "pygments_lexer": "ipython3",
   "version": "3.8.8"
  },
  "toc": {
   "base_numbering": 1,
   "nav_menu": {},
   "number_sections": true,
   "sideBar": true,
   "skip_h1_title": false,
   "title_cell": "Table of Contents",
   "title_sidebar": "Contents",
   "toc_cell": false,
   "toc_position": {},
   "toc_section_display": true,
   "toc_window_display": true
  },
  "varInspector": {
   "cols": {
    "lenName": 16,
    "lenType": 16,
    "lenVar": 40
   },
   "kernels_config": {
    "python": {
     "delete_cmd_postfix": "",
     "delete_cmd_prefix": "del ",
     "library": "var_list.py",
     "varRefreshCmd": "print(var_dic_list())"
    },
    "r": {
     "delete_cmd_postfix": ") ",
     "delete_cmd_prefix": "rm(",
     "library": "var_list.r",
     "varRefreshCmd": "cat(var_dic_list()) "
    }
   },
   "types_to_exclude": [
    "module",
    "function",
    "builtin_function_or_method",
    "instance",
    "_Feature"
   ],
   "window_display": false
  }
 },
 "nbformat": 4,
 "nbformat_minor": 5
}
