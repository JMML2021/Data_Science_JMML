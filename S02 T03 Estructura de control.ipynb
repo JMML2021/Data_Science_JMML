{
 "cells": [
  {
   "cell_type": "markdown",
   "id": "1750bda8",
   "metadata": {},
   "source": [
    "# S02 T03: Estructura de control\n",
    "\n",
    "\n",
    "# Nivell 1"
   ]
  },
  {
   "cell_type": "markdown",
   "id": "db4666ad",
   "metadata": {},
   "source": [
    "# Exercici 1"
   ]
  },
  {
   "cell_type": "markdown",
   "id": "33c7522e",
   "metadata": {},
   "source": [
    "L'exercici consisteix a crear un programa que et classifiqui una variable numèrica en funció de l’escala Suspès/Aprovat/Notable/Excel·lent."
   ]
  },
  {
   "cell_type": "code",
   "execution_count": 31,
   "id": "565623be",
   "metadata": {
    "ExecuteTime": {
     "end_time": "2022-05-31T18:39:23.531453Z",
     "start_time": "2022-05-31T18:39:11.291572Z"
    }
   },
   "outputs": [
    {
     "name": "stdout",
     "output_type": "stream",
     "text": [
      "Per sortir introdui 99\n",
      " Valor de la nota?5\n",
      "Aprovat\n",
      " Valor de la nota?99\n",
      "Fi.....\n"
     ]
    }
   ],
   "source": [
    "nota=0\n",
    "print ('Per sortir introdui 99')\n",
    "while nota != 99:      \n",
    "       \n",
    "    nota = int(input(' Valor de la nota?'))\n",
    "\n",
    "    if nota <5 and nota >0:\n",
    "        print(\"Suspès\")\n",
    "    elif nota <7:\n",
    "        print('Aprovat')\n",
    "    elif nota <9:\n",
    "        print('Notable')\n",
    "    elif nota <=10:\n",
    "        print('Excel·lent')\n",
    "    else:\n",
    "        if nota!=99:\n",
    "            print('te que ser un número entre 0 y 10')\n",
    "        else:\n",
    "            print('Fi.....')"
   ]
  },
  {
   "cell_type": "markdown",
   "id": "d7fa1507",
   "metadata": {},
   "source": [
    "# Exercici 2"
   ]
  },
  {
   "cell_type": "markdown",
   "id": "53695ba6",
   "metadata": {},
   "source": [
    "Utilitzant el següent tutorial Programiz: Python Input, Output and Import crea un programa que et pregunti dos números. T’ha de mostrar un missatge dient si el primer és més gran, el segon és més gran o són iguals."
   ]
  },
  {
   "cell_type": "code",
   "execution_count": 32,
   "id": "5fc6b835",
   "metadata": {
    "ExecuteTime": {
     "end_time": "2022-05-31T18:39:50.908592Z",
     "start_time": "2022-05-31T18:39:23.531453Z"
    },
    "run_control": {
     "marked": true
    }
   },
   "outputs": [
    {
     "name": "stdout",
     "output_type": "stream",
     "text": [
      "Per sortir introdui e  ó E\n",
      " Valor del nuúmero 1º? e\n",
      "\n",
      "fi.....\n"
     ]
    }
   ],
   "source": [
    "num_1=0\n",
    "num_2=0\n",
    "fin = False\n",
    "print ('Per sortir introdui e  ó E')\n",
    "while fin != True:      \n",
    "       \n",
    "    num_1 = (input(' Valor del número 1º? '))\n",
    "    if num_1.isdigit():\n",
    "        num_1 = int(num_1)\n",
    "        num_2 = (input(' Valor del número 2º? '))\n",
    "        if num_2.isdigit():\n",
    "            num_2 = int(num_2)\n",
    "            if num_1 > num_2:\n",
    "                print(num_1 , ' es més gran que ', num_2)\n",
    "            if num_1 < num_2:\n",
    "                print(num_2 , ' es més gran que ', num_1)\n",
    "            if num_1 == num_2:\n",
    "                print (' els dos numeros són iquals')\n",
    "        else:\n",
    "            if num_1=='e' or num_1=='E':\n",
    "                fin = True\n",
    "            else:\n",
    "                print('Te que ser un número')\n",
    "    else:\n",
    "        if num_1=='e' or num_1=='E':\n",
    "            fin = True\n",
    "        else:\n",
    "                print('Te que ser un número')\n",
    "    \n",
    "    \n",
    "print('\\nfi.....')    "
   ]
  },
  {
   "cell_type": "markdown",
   "id": "e6e9ee10",
   "metadata": {},
   "source": [
    "# Exercici 3"
   ]
  },
  {
   "cell_type": "markdown",
   "id": "147063fb",
   "metadata": {},
   "source": [
    "Crea un programa que et pregunti el teu nom, i et demani un número. Si el número és 0, hauria de mostrar un missatge d’error. En cas contrari, hauria de mostrar el nom repetit tants cops com indiqui el número. Per exemple, “Joan Joan Joan”."
   ]
  },
  {
   "cell_type": "code",
   "execution_count": 33,
   "id": "0bf038be",
   "metadata": {
    "ExecuteTime": {
     "end_time": "2022-05-31T18:40:03.139123Z",
     "start_time": "2022-05-31T18:39:50.909588Z"
    }
   },
   "outputs": [
    {
     "name": "stdout",
     "output_type": "stream",
     "text": [
      "Per sortir introdui 0\n",
      "El teu nom és? Joan\n",
      "Quants vegades vols repetir el nom? 3\n",
      "Joan  Joan  Joan  El teu nom és? asd\n",
      "Quants vegades vols repetir el nom? 0\n",
      "\n",
      "fi.....\n"
     ]
    }
   ],
   "source": [
    "fin = False\n",
    "\n",
    "print ('Per sortir introdui 0')\n",
    "while fin != True:      \n",
    "       \n",
    "    nom= input('El teu nom és? ')\n",
    "    vegades = input('Quants vegades vols repetir el nom? ')\n",
    "    while not vegades.isdigit():\n",
    "        vegades = input('Quants vegades vols repetir el nom? ')\n",
    "        if not vegades.isdigit(): \n",
    "            print(vegades,' No és un numero...')\n",
    "    if int(vegades) ==0:\n",
    "        fin = True\n",
    "    \n",
    "        \n",
    "    for x in range(int(vegades)):\n",
    "        print(nom, ' ',  end=\"\")\n",
    "        \n",
    "print('\\nfi.....')  "
   ]
  },
  {
   "cell_type": "markdown",
   "id": "1f878deb",
   "metadata": {},
   "source": [
    "# Exercici 4"
   ]
  },
  {
   "cell_type": "markdown",
   "id": "8014ac82",
   "metadata": {},
   "source": [
    "Crea un programa que donada una llista qualsevol, et digui si es simètrica o no. Si ho és, que et digui quants elements té."
   ]
  },
  {
   "cell_type": "code",
   "execution_count": 36,
   "id": "0bbfc4a6",
   "metadata": {
    "ExecuteTime": {
     "end_time": "2022-05-31T18:40:24.375802Z",
     "start_time": "2022-05-31T18:40:24.368821Z"
    }
   },
   "outputs": [
    {
     "name": "stdout",
     "output_type": "stream",
     "text": [
      "Quantitat de elements:  9\n",
      "0  .  A  --  A\n",
      "1  NO  B  --  k\n",
      "2  NO  C  --  A\n",
      "3  NO  D  --  B\n",
      "\n",
      "No és simétrica\n"
     ]
    }
   ],
   "source": [
    "llista = ['A', 'B', 'C', 'D', 'C', 'B', 'A', 'k', 'A']\n",
    "longitud = len(llista)\n",
    "test = True\n",
    "print('Quantitat de elements: ', longitud)\n",
    "for x in range (int(longitud/2)):\n",
    "    if llista[x] == llista[-x-1]:\n",
    "        print(x, ' . ', llista[x], ' -- ', llista[-x-1])\n",
    "    else:    \n",
    "        test= False\n",
    "        print(x, ' NO ', llista[x], ' -- ', llista[-x-1])\n",
    "        \n",
    "if test == True:\n",
    "    print('\\nés simétrica')\n",
    "else:\n",
    "    print('\\nNo és simétrica')"
   ]
  },
  {
   "cell_type": "markdown",
   "id": "06e0bba5",
   "metadata": {},
   "source": [
    "# Exercici 5"
   ]
  },
  {
   "cell_type": "markdown",
   "id": "cd42b67a",
   "metadata": {},
   "source": [
    "Crea un programa que donada una llista, et digui quants números coincideixen amb la seva posició. Per exemple [3,4,2,0,2,3,6] el 2 i el 6 coincideixen."
   ]
  },
  {
   "cell_type": "code",
   "execution_count": 37,
   "id": "8cc4a590",
   "metadata": {
    "ExecuteTime": {
     "end_time": "2022-05-31T18:40:28.468733Z",
     "start_time": "2022-05-31T18:40:28.454771Z"
    }
   },
   "outputs": [
    {
     "name": "stdout",
     "output_type": "stream",
     "text": [
      "2  està a la seva posició\n",
      "6  està a la seva posició\n"
     ]
    }
   ],
   "source": [
    "llista =  [3,4,2,0,2,3,6]\n",
    "\n",
    "for x in range(len(llista)):\n",
    "    if llista[x]==x:\n",
    "        print(x, ' està a la seva posició')"
   ]
  },
  {
   "cell_type": "code",
   "execution_count": null,
   "id": "f66aebf4",
   "metadata": {},
   "outputs": [],
   "source": []
  }
 ],
 "metadata": {
  "hide_input": false,
  "kernelspec": {
   "display_name": "Python 3 (ipykernel)",
   "language": "python",
   "name": "python3"
  },
  "language_info": {
   "codemirror_mode": {
    "name": "ipython",
    "version": 3
   },
   "file_extension": ".py",
   "mimetype": "text/x-python",
   "name": "python",
   "nbconvert_exporter": "python",
   "pygments_lexer": "ipython3",
   "version": "3.8.8"
  },
  "toc": {
   "base_numbering": 1,
   "nav_menu": {},
   "number_sections": true,
   "sideBar": true,
   "skip_h1_title": false,
   "title_cell": "Table of Contents",
   "title_sidebar": "Contents",
   "toc_cell": false,
   "toc_position": {},
   "toc_section_display": true,
   "toc_window_display": true
  },
  "varInspector": {
   "cols": {
    "lenName": 16,
    "lenType": 16,
    "lenVar": 40
   },
   "kernels_config": {
    "python": {
     "delete_cmd_postfix": "",
     "delete_cmd_prefix": "del ",
     "library": "var_list.py",
     "varRefreshCmd": "print(var_dic_list())"
    },
    "r": {
     "delete_cmd_postfix": ") ",
     "delete_cmd_prefix": "rm(",
     "library": "var_list.r",
     "varRefreshCmd": "cat(var_dic_list()) "
    }
   },
   "types_to_exclude": [
    "module",
    "function",
    "builtin_function_or_method",
    "instance",
    "_Feature"
   ],
   "window_display": false
  }
 },
 "nbformat": 4,
 "nbformat_minor": 5
}
